{
  "cells": [
    {
      "cell_type": "markdown",
      "metadata": {
        "id": "A9uihVNiQn73"
      },
      "source": [
        "# Setup"
      ]
    },
    {
      "cell_type": "code",
      "execution_count": null,
      "metadata": {
        "id": "o76DP8wsQn77"
      },
      "outputs": [],
      "source": [
        "import numpy as np\n",
        "import tensorflow as tf\n",
        "import matplotlib.pyplot as plt\n",
        "#import itertools as it\n",
        "\n",
        "%matplotlib inline"
      ]
    },
    {
      "cell_type": "markdown",
      "metadata": {
        "id": "Y4erwJ19Qn7-"
      },
      "source": [
        "# Neurons as Logic Gates"
      ]
    },
    {
      "cell_type": "markdown",
      "metadata": {
        "id": "plaVejTnQn7_"
      },
      "source": [
        "As an introduction to neural networks and their component neurons, we are going to look at using neurons to implement the most primitive logic computations:  logic gates.  Let's go!"
      ]
    },
    {
      "cell_type": "markdown",
      "metadata": {
        "id": "ocxQcNDzQn7_"
      },
      "source": [
        "##### The Sigmoid Function\n",
        "\n",
        "The basic, classic activation function that we apply to neurons is a  sigmoid (sometimes just called *the* sigmoid function) function:  the standard logistic function.\n",
        "\n",
        "$$\n",
        "\\sigma = \\frac{1}{1 + e^{-x}}\n",
        "$$\n",
        "\n",
        "$\\sigma$ ranges from (0, 1). When the input $x$ is negative, $\\sigma$ is close to 0. When $x$ is positive, $\\sigma$ is close to 1. At $x=0$, $\\sigma=0.5$\n",
        "\n",
        "We can implement this conveniently with NumPy."
      ]
    },
    {
      "cell_type": "code",
      "execution_count": null,
      "metadata": {
        "id": "BQNd_84kQn8A"
      },
      "outputs": [],
      "source": [
        "def sigmoid(x):\n",
        "    \"\"\"Sigmoid function\"\"\"\n",
        "    return 1.0 / (1.0 + np.exp(-x))"
      ]
    },
    {
      "cell_type": "markdown",
      "metadata": {
        "id": "J63is0bpQn8B"
      },
      "source": [
        "And plot it with matplotlib."
      ]
    },
    {
      "cell_type": "code",
      "execution_count": null,
      "metadata": {
        "colab": {
          "base_uri": "https://localhost:8080/",
          "height": 291
        },
        "id": "7gcLv1dcQn8B",
        "outputId": "b77f701a-04a8-41c7-dd0e-5ed28d2175a9"
      },
      "outputs": [
        {
          "output_type": "display_data",
          "data": {
            "text/plain": [
              "<Figure size 400x300 with 1 Axes>"
            ],
            "image/png": "[encoded data removed]"
          },
          "metadata": {}
        }
      ],
      "source": [
        "# Plot The sigmoid function\n",
        "xs = np.linspace(-10, 10, num=100, dtype=np.float32)\n",
        "activation = sigmoid(xs)\n",
        "\n",
        "fig = plt.figure(figsize=(4,3))\n",
        "plt.plot(xs, activation)\n",
        "plt.plot(0,.5,'ro')\n",
        "\n",
        "plt.grid(True, which='both')\n",
        "plt.axhline(y=0, color='y')\n",
        "plt.axvline(x=0, color='y')\n",
        "plt.ylim([-0.1, 1.15])\n",
        "plt.show()"
      ]
    },
    {
      "cell_type": "code",
      "execution_count": null,
      "metadata": {
        "colab": {
          "base_uri": "https://localhost:8080/"
        },
        "id": "wruA1HgVmi3B",
        "outputId": "2958638d-a906-47ef-a867-50bb7886b68c"
      },
      "outputs": [
        {
          "output_type": "stream",
          "name": "stdout",
          "text": [
            "[-10.          -9.797979    -9.59596     -9.393939    -9.191919\n",
            "  -8.989899    -8.787879    -8.585858    -8.383839    -8.181818\n",
            "  -7.979798    -7.7777777   -7.5757575   -7.3737373   -7.171717\n",
            "  -6.969697    -6.767677    -6.5656567   -6.3636365   -6.1616163\n",
            "  -5.959596    -5.757576    -5.5555553   -5.353535    -5.151515\n",
            "  -4.949495    -4.7474747   -4.5454545   -4.3434343   -4.141414\n",
            "  -3.939394    -3.7373738   -3.5353534   -3.3333333   -3.131313\n",
            "  -2.929293    -2.7272727   -2.5252526   -2.3232324   -2.121212\n",
            "  -1.919192    -1.7171717   -1.5151515   -1.3131313   -1.1111112\n",
            "  -0.90909094  -0.7070707   -0.5050505   -0.3030303   -0.1010101\n",
            "   0.1010101    0.3030303    0.5050505    0.7070707    0.90909094\n",
            "   1.1111112    1.3131313    1.5151515    1.7171717    1.919192\n",
            "   2.121212     2.3232324    2.5252526    2.7272727    2.929293\n",
            "   3.131313     3.3333333    3.5353534    3.7373738    3.939394\n",
            "   4.141414     4.3434343    4.5454545    4.7474747    4.949495\n",
            "   5.151515     5.353535     5.5555553    5.757576     5.959596\n",
            "   6.1616163    6.3636365    6.5656567    6.767677     6.969697\n",
            "   7.171717     7.3737373    7.5757575    7.7777777    7.979798\n",
            "   8.181818     8.383839     8.585858     8.787879     8.989899\n",
            "   9.191919     9.393939     9.59596      9.797979    10.        ]\n"
          ]
        }
      ],
      "source": [
        "xs = np.linspace(-10, 10, num=100, dtype=np.float32)\n",
        "print(xs)"
      ]
    },
    {
      "cell_type": "markdown",
      "metadata": {
        "id": "eBf0C3JdQn8C"
      },
      "source": [
        "## An Example with OR"
      ]
    },
    {
      "cell_type": "markdown",
      "metadata": {
        "id": "PjWqK41AQn8C"
      },
      "source": [
        "##### OR Logic\n",
        "A logic gate takes in two boolean (true/false or 1/0) inputs, and returns either a 0 or 1 depending on its rule. The truth table for a logic gate shows the outputs for each combination of inputs: (0, 0), (0, 1), (1,0), and (1, 1). For example, let's look at the truth table for an Or-gate:\n",
        "\n",
        "<table>\n",
        "<tr><th colspan=\"3\">OR gate truth table</th></tr>\n",
        "<tr><th colspan=\"2\">Input</th><th>Output</th></tr>\n",
        "<tr><td>0</td><td>0</td><td>0</td></tr>\n",
        "<tr><td>0</td><td>1</td><td>1</td></tr>\n",
        "<tr><td>1</td><td>0</td><td>1</td></tr>\n",
        "<tr><td>1</td><td>1</td><td>1</td></tr>\n",
        "</table>"
      ]
    },
    {
      "cell_type": "markdown",
      "metadata": {
        "id": "YSx82PbQQn8C"
      },
      "source": [
        "##### OR as a Neuron\n",
        "\n",
        "A neuron that uses the sigmoid activation function outputs a value between (0, 1). This naturally leads us to think about boolean values. Imagine a neuron that takes in two inputs, $x_1$ and $x_2$, and a bias term:\n",
        "\n",
        "   <img src=\"logic01.png\" width=50% />\n",
        "\n",
        "By limiting the inputs of $x_1$ and $x_2$ to be in $\\left\\{0, 1\\right\\}$, we can simulate the effect of logic gates with our neuron. The goal is to find the weights (represented by ? marks above), such that it returns an output close to 0 or 1 depending on the inputs.  What weights should we use to output the same results as OR? Remember: $\\sigma(z)$ is close to 0 when $z$ is largely negative (around -10 or less), and is close to 1 when $z$ is largely positive (around +10 or greater).\n",
        "\n",
        "$$\n",
        "z = w_1 x_1 + w_2 x_2 + b\n",
        "$$\n",
        "\n",
        "Let's think this through:\n",
        "\n",
        "* When $x_1$ and $x_2$ are both 0, the only value affecting $z$ is $b$. Because we want the result for input (0, 0) to be close to zero, $b$ should be negative (at least -10) to get the very left-hand part of the sigmoid.\n",
        "* If either $x_1$ or $x_2$ is 1, we want the output to be close to 1. That means the weights associated with $x_1$ and $x_2$ should be enough to offset $b$ to the point of causing $z$ to be at least 10 (i.e., to the far right part of the sigmoid).\n",
        "\n",
        "Let's give $b$ a value of -10. How big do we need $w_1$ and $w_2$ to be?  At least +20 will get us to +10 for just one of $\\{w_1, w_2\\}$ being on.\n",
        "\n",
        "So let's try out $w_1=20$, $w_2=20$, and $b=-10$:\n",
        "\n",
        " <img src=\"logic02.png\" width=50% />\n"
      ]
    },
    {
      "cell_type": "markdown",
      "metadata": {
        "id": "g054XD4eQn8D"
      },
      "source": [
        "##### Some Utility Functions\n",
        "Since we're going to be making several example logic gates (from different sets of weights and biases), here are two helpers.  The first takes our weights and baises and turns them into a two-argument function that we can use like `and(a,b)`.  The second is for printing a truth table for a gate."
      ]
    },
    {
      "cell_type": "code",
      "execution_count": null,
      "metadata": {
        "id": "Wleq8ry3zEAV"
      },
      "outputs": [],
      "source": [
        "# Logic gate function\n",
        "def logic_gate(w1, w2, b, x1, x2):\n",
        "  ''' logic_gate is a function which returns the results of\n",
        "        taking two args and  (hopefully) acts like a logic gate (and/or/not/etc.).\n",
        "        its behavior is determined by w1,w2,b. '''\n",
        "  return sigmoid(w1 * x1 + w2 * x2 + b)\n"
      ]
    },
    {
      "cell_type": "code",
      "execution_count": null,
      "metadata": {
        "id": "lhpF7mgMQn8D"
      },
      "outputs": [],
      "source": [
        "# Test function that takes a function with two arguments\n",
        "def test_gate(w1, w2, b):\n",
        "  for x1 in range(2):\n",
        "    for x2 in range(2):\n",
        "      print(\"{}, {}: {}\".format(x1, x2, np.round(logic_gate(w1, w2, b, x1, x2))))"
      ]
    },
    {
      "cell_type": "markdown",
      "metadata": {
        "id": "xJxJ1-q6Qn8D"
      },
      "source": [
        "Let's see how we did.  Here's the gold-standard truth table.\n",
        "\n",
        "<table>\n",
        "<tr><th colspan=\"3\">OR gate truth table</th></tr>\n",
        "<tr><th colspan=\"2\">Input</th><th>Output</th></tr>\n",
        "<tr><td>0</td><td>0</td><td>0</td></tr>\n",
        "<tr><td>0</td><td>1</td><td>1</td></tr>\n",
        "<tr><td>1</td><td>0</td><td>1</td></tr>\n",
        "<tr><td>1</td><td>1</td><td>1</td></tr>\n",
        "</table>\n",
        "\n",
        "And our result:"
      ]
    },
    {
      "cell_type": "code",
      "execution_count": null,
      "metadata": {
        "colab": {
          "base_uri": "https://localhost:8080/"
        },
        "id": "0gVu1GrK1-EN",
        "outputId": "1cb53377-1b24-4d4c-ea0c-b2ec4b8c3fbc"
      },
      "outputs": [
        {
          "output_type": "stream",
          "name": "stdout",
          "text": [
            "0, 0: 0.0\n",
            "0, 1: 1.0\n",
            "1, 0: 1.0\n",
            "1, 1: 1.0\n"
          ]
        }
      ],
      "source": [
        "or_gate = test_gate(20, 20, -10)"
      ]
    },
    {
      "cell_type": "markdown",
      "metadata": {
        "id": "qci7rZBQQn8D"
      },
      "source": [
        "This matches - great!"
      ]
    },
    {
      "cell_type": "markdown",
      "metadata": {
        "id": "3Ycn5zQTQn8E"
      },
      "source": [
        "# Exercise 1"
      ]
    },
    {
      "cell_type": "markdown",
      "metadata": {
        "id": "hWh053OQQn8E"
      },
      "source": [
        "##### Part 1:  AND Gate\n",
        "\n",
        "Now you try finding the appropriate weight values for each truth table. Try not to guess and check. Think through it logically and try to derive values that work.\n",
        "\n",
        "<table>\n",
        "<tr><th colspan=\"3\">AND gate truth table</th></tr>\n",
        "<tr><th colspan=\"2\">Input</th><th>Output</th></tr>\n",
        "<tr><td>0</td><td>0</td><td>0</td></tr>\n",
        "<tr><td>0</td><td>1</td><td>0</td></tr>\n",
        "<tr><td>1</td><td>0</td><td>0</td></tr>\n",
        "<tr><td>1</td><td>1</td><td>1</td></tr>\n",
        "</table>"
      ]
    },
    {
      "cell_type": "code",
      "execution_count": 28,
      "metadata": {
        "id": "7ARyNpeqQn8E",
        "colab": {
          "base_uri": "https://localhost:8080/"
        },
        "outputId": "6b3b5539-d86a-457c-8698-64388880bca7"
      },
      "outputs": [
        {
          "output_type": "stream",
          "name": "stdout",
          "text": [
            "0, 0: 0.0\n",
            "0, 1: 0.0\n",
            "1, 0: 0.0\n",
            "1, 1: 1.0\n"
          ]
        }
      ],
      "source": [
        "# Fill in the w1, w2, and b parameters such that the truth table matches\n",
        "and_gate = test_gate(10, 10, -15)\n"
      ]
    },
    {
      "cell_type": "markdown",
      "metadata": {
        "id": "MJ_MIZqVQn8E"
      },
      "source": [
        "##### Part 2: NOR (Not Or) Gate\n",
        "<table>\n",
        "<tr><th colspan=\"3\">NOR gate truth table</th></tr>\n",
        "<tr><th colspan=\"2\">Input</th><th>Output</th></tr>\n",
        "<tr><td>0</td><td>0</td><td>1</td></tr>\n",
        "<tr><td>0</td><td>1</td><td>0</td></tr>\n",
        "<tr><td>1</td><td>0</td><td>0</td></tr>\n",
        "<tr><td>1</td><td>1</td><td>0</td></tr>\n",
        "</table>\n",
        "<table>"
      ]
    },
    {
      "cell_type": "code",
      "execution_count": 27,
      "metadata": {
        "id": "V4Bir8bdQn8F",
        "colab": {
          "base_uri": "https://localhost:8080/"
        },
        "outputId": "9a7d7619-ee99-439e-a206-db22519776c2"
      },
      "outputs": [
        {
          "output_type": "stream",
          "name": "stdout",
          "text": [
            "0, 0: 1.0\n",
            "0, 1: 0.0\n",
            "1, 0: 0.0\n",
            "1, 1: 0.0\n"
          ]
        }
      ],
      "source": [
        "# Fill in the w1, w2, and b parameters such that the truth table matches\n",
        "nor_gate = test_gate(-20, -20, 10)\n"
      ]
    },
    {
      "cell_type": "markdown",
      "metadata": {
        "id": "kouMg6SiQn8F"
      },
      "source": [
        "##### Part 3: NAND (Not And) Gate\n",
        "<table>\n",
        "<tr><th colspan=\"3\">NAND gate truth table</th></tr>\n",
        "<tr><th colspan=\"2\">Input</th><th>Output</th></tr>\n",
        "<tr><td>0</td><td>0</td><td>1</td></tr>\n",
        "<tr><td>0</td><td>1</td><td>1</td></tr>\n",
        "<tr><td>1</td><td>0</td><td>1</td></tr>\n",
        "<tr><td>1</td><td>1</td><td>0</td></tr>\n",
        "</table>"
      ]
    },
    {
      "cell_type": "code",
      "execution_count": 26,
      "metadata": {
        "id": "rRC94EkhQn8F",
        "colab": {
          "base_uri": "https://localhost:8080/"
        },
        "outputId": "d1699ee3-ad8a-4659-f60b-c1078e9d55ab"
      },
      "outputs": [
        {
          "output_type": "stream",
          "name": "stdout",
          "text": [
            "0, 0: 1.0\n",
            "0, 1: 1.0\n",
            "1, 0: 1.0\n",
            "1, 1: 0.0\n"
          ]
        }
      ],
      "source": [
        "# Fill in the w1, w2, and b parameters such that the truth table matches\n",
        "nand_gate = test_gate(-10, -10, 15)"
      ]
    },
    {
      "cell_type": "markdown",
      "metadata": {
        "id": "_I029hJsQn8F"
      },
      "source": [
        "## Solutions 1"
      ]
    },
    {
      "cell_type": "code",
      "execution_count": null,
      "metadata": {
        "id": "3tm-zb34Qn8F",
        "colab": {
          "base_uri": "https://localhost:8080/"
        },
        "outputId": "b55331a1-1745-4ecd-c25d-604d00894740"
      },
      "outputs": [
        {
          "output_type": "stream",
          "name": "stdout",
          "text": [
            "<bound method BaseResourceVariable.numpy of <tf.Variable 'Variable:0' shape=(1,) dtype=float32, numpy=array([0.], dtype=float32)>>\n"
          ]
        }
      ],
      "source": [
        "b = tf.Variable(tf.zeros([1]))\n",
        "print(b.numpy)"
      ]
    },
    {
      "cell_type": "markdown",
      "metadata": {
        "id": "UEeKlwb7Qn8G"
      },
      "source": [
        "# Learning a Logic Gate"
      ]
    },
    {
      "cell_type": "markdown",
      "metadata": {
        "id": "ROzXwgizQn8G"
      },
      "source": [
        "We can use TensorFlow to try and teach a model to learn the correct weights and bias by passing in our truth table as training data."
      ]
    },
    {
      "cell_type": "code",
      "execution_count": null,
      "metadata": {
        "id": "IgSRfaq-6ryc"
      },
      "outputs": [],
      "source": [
        "# Define LogicGate Model using tf.Module\n",
        "class LogicGate(tf.Module):\n",
        "    def __init__(self):\n",
        "        super().__init__()\n",
        "        self.built = False  # Track if model is initialized\n",
        "\n",
        "    def __call__(self, x, train=True):\n",
        "        # Initialize weights and bias on first call\n",
        "        if not self.built:\n",
        "            input_dim = x.shape[-1]  # Number of input features\n",
        "            self.w = tf.Variable(tf.random.normal([input_dim, 1]), name=\"weights\")\n",
        "            self.b = tf.Variable(tf.zeros([1]), name=\"bias\")\n",
        "            self.built = True\n",
        "\n",
        "        # Compute logits: z = Wx + b\n",
        "        z = tf.add(tf.matmul(x, self.w), self.b)\n",
        "        return tf.sigmoid(z)  # Apply sigmoid\n",
        "\n",
        "# Loss function (Mean Squared Error)\n",
        "def compute_loss(y_pred, y_true):\n",
        "    return tf.reduce_mean(tf.square(y_pred - y_true))\n",
        "\n",
        "# Training function\n",
        "def train_model(model, x_train, y_train, learning_rate=0.5, epochs=5000):\n",
        "  # Iterate over the training data\n",
        "  for epoch in range(epochs):\n",
        "    with tf.GradientTape() as tape:\n",
        "      y_pred = model(x_train)  # Forward pass\n",
        "      loss = compute_loss(y_pred, y_train)\n",
        "\n",
        "    # Update the parameters with respect to the gradient calculations\n",
        "    grads = tape.gradient(loss, model.variables)\n",
        "    for g,v in zip(grads, model.variables):\n",
        "      v.assign_sub(learning_rate * g)\n",
        "\n",
        "    # Print progress every 1000 epochs\n",
        "    if epoch % 1000 == 0:\n",
        "      acc = compute_accuracy(model, x_train, y_train)\n",
        "      print(f\"Epoch {epoch}, Loss: {loss.numpy():.4f}, Accuracy: {acc:.4f}\")\n",
        "\n",
        "# Accuracy function\n",
        "def compute_accuracy(model, x, y_true):\n",
        "    y_pred = model(x, train=False)\n",
        "    y_pred_rounded = tf.round(y_pred)\n",
        "    correct = tf.equal(y_pred_rounded, y_true)\n",
        "    return tf.reduce_mean(tf.cast(correct, tf.float32)).numpy()\n"
      ]
    },
    {
      "cell_type": "code",
      "execution_count": null,
      "metadata": {
        "colab": {
          "base_uri": "https://localhost:8080/"
        },
        "id": "zSSTaO3y6w-O",
        "outputId": "12cb359d-a1f7-4496-a424-525100b9b114"
      },
      "outputs": [
        {
          "output_type": "stream",
          "name": "stdout",
          "text": [
            "Epoch 0, Loss: 0.2606, Accuracy: 0.5000\n",
            "Epoch 1000, Loss: 0.0124, Accuracy: 1.0000\n",
            "Epoch 2000, Loss: 0.0057, Accuracy: 1.0000\n",
            "Epoch 3000, Loss: 0.0036, Accuracy: 1.0000\n",
            "Epoch 4000, Loss: 0.0026, Accuracy: 1.0000\n",
            "\n",
            "Learned weight for w1: 5.736032962799072\n",
            "Learned weight for w2: 5.736032962799072\n",
            "Learned bias: -8.69567584991455\n",
            "\n",
            "Predicted Truth Table:\n",
            "[[0. 0. 0.]\n",
            " [1. 0. 0.]\n",
            " [0. 1. 0.]\n",
            " [1. 1. 1.]]\n"
          ]
        }
      ],
      "source": [
        "\n",
        "# Prepare AND gate dataset\n",
        "and_table = np.array([[0, 0, 0],\n",
        "                      [1, 0, 0],\n",
        "                      [0, 1, 0],\n",
        "                      [1, 1, 1]], dtype=np.float32)\n",
        "\n",
        "x_train = and_table[:, :2]  # Inputs: x1, x2\n",
        "y_train = and_table[:, 2:]  # Labels: y\n",
        "\n",
        "# Initialize and train model\n",
        "model = LogicGate()\n",
        "train_model(model, x_train, y_train)\n",
        "\n",
        "# Evaluate and print results\n",
        "w1, w2 = model.w.numpy().flatten()\n",
        "b = model.b.numpy().flatten()[0]\n",
        "print(f\"\\nLearned weight for w1: {w1}\")\n",
        "print(f\"Learned weight for w2: {w2}\")\n",
        "print(f\"Learned bias: {b}\\n\")\n",
        "\n",
        "# Test model predictions\n",
        "y_pred = model(x_train, train=False).numpy().round().astype(np.uint8)\n",
        "print(\"Predicted Truth Table:\")\n",
        "print(np.column_stack((and_table[:, :2], y_pred)))"
      ]
    },
    {
      "cell_type": "markdown",
      "metadata": {
        "id": "tenXRFveQn8F"
      },
      "source": [
        "# Limits of Single Neurons\n",
        "\n",
        "If you've taken computer science courses, you may know that the XOR gates are the basis of computation. They can be used as half-adders, the foundation of being able to add numbers together. Here's the truth table for XOR:\n",
        "\n",
        "##### XOR (Exclusive Or) Gate\n",
        "<table>\n",
        "<tr><th colspan=\"3\">NAND gate truth table</th></tr>\n",
        "<tr><th colspan=\"2\">Input</th><th>Output</th></tr>\n",
        "<tr><td>0</td><td>0</td><td>0</td></tr>\n",
        "<tr><td>0</td><td>1</td><td>1</td></tr>\n",
        "<tr><td>1</td><td>0</td><td>1</td></tr>\n",
        "<tr><td>1</td><td>1</td><td>0</td></tr>\n",
        "</table>\n",
        "\n",
        "Now the question is, can you create a set of weights such that a single neuron can output this property?  It turns out that you cannot. Single neurons can't correlate inputs, so it's just confused. So individual neurons are out. Can we still use neurons to somehow form an XOR gate?\n",
        "\n",
        "What if we tried something more complex:\n",
        "\n",
        " <img src=\"logic03.png\" width=50% />\n",
        "\n",
        "Here, we've got the inputs going to two separate gates: the top neuron is an OR gate, and the bottom is a NAND gate. The output of these gates is passed to another neuron, which is an AND gate. If you work out the outputs at each combination of input values, you'll see that this is an XOR gate!\n",
        "\n",
        "XOR(A,B)=OR(A, B) AND NAND(A,B)."
      ]
    },
    {
      "cell_type": "code",
      "execution_count": null,
      "metadata": {
        "id": "THXGPuqVQn8G"
      },
      "outputs": [],
      "source": [
        "# Make sure you have or_gate, nand_gate, and and_gate working from above\n",
        "#def xor_gate(a, b):\n",
        "#    c = or_gate(a, b)\n",
        "#    d = nand_gate(a, b)\n",
        "#    return and_gate(c, d)\n",
        "#test(xor_gate)"
      ]
    },
    {
      "cell_type": "markdown",
      "metadata": {
        "id": "wmyjlAWXQn8G"
      },
      "source": [
        "Thus, we can see how chaining together neurons can compose more complex models than we'd otherwise have access to."
      ]
    },
    {
      "cell_type": "code",
      "execution_count": null,
      "metadata": {
        "id": "TFVMtbjYQn8J"
      },
      "outputs": [],
      "source": []
    },
    {
      "cell_type": "markdown",
      "metadata": {
        "id": "LawaqclfQn8K"
      },
      "source": [
        "# Exercise 2: Learning an XOR Gate"
      ]
    },
    {
      "cell_type": "markdown",
      "metadata": {
        "id": "QgssswnVQn8K"
      },
      "source": [
        "<img src=\"logic03.png\" width=50% />"
      ]
    },
    {
      "cell_type": "code",
      "source": [
        "import numpy as np\n",
        "import tensorflow as tf\n",
        "\n",
        "# Define XOR Logic Model using tf.Module\n",
        "class XOR_Model(tf.Module):\n",
        "    def __init__(self):\n",
        "        super().__init__()\n",
        "        self.initialized = False\n",
        "\n",
        "    def __call__(self, inputs, training=True):\n",
        "        if not self.initialized:\n",
        "            input_size = inputs.shape[-1]\n",
        "            self.W1= tf.Variable(tf.random.normal([input_size, 2]), name=\"W1\")\n",
        "            self.b1 = tf.Variable(tf.zeros([2]), name=\"b1\")\n",
        "\n",
        "            self.W2 = tf.Variable(tf.random.normal([2, 1]), name=\"W2\")\n",
        "            self.b2 = tf.Variable(tf.zeros([1]), name=\"b2\")\n",
        "\n",
        "            self.initialized = True\n",
        "\n",
        "        hidden_layer = tf.sigmoid(tf.add(tf.matmul(inputs, self.W1), self.b1))\n",
        "        output_layer = tf.add(tf.matmul(hidden_layer, self.W2), self.b2)\n",
        "        return tf.sigmoid(output_layer)\n",
        "\n",
        "# Loss function\n",
        "def calculate_loss(predicted, actual):\n",
        "    return tf.reduce_mean(tf.square(predicted - actual))\n",
        "\n",
        "# Training function\n",
        "def train_xor_model(model, x_data, y_data, learning_rate=0.3, epochs=15000):\n",
        "    for epoch in range(epochs):\n",
        "        with tf.GradientTape() as tape:\n",
        "            predictions = model(x_data)\n",
        "            loss = calculate_loss(predictions, y_data)\n",
        "\n",
        "        gradients = tape.gradient(loss, model.variables)\n",
        "        for grad, var in zip(gradients, model.variables):\n",
        "            var.assign_sub(learning_rate * grad)\n",
        "\n",
        "        if epoch % 2000 == 0:\n",
        "            accuracy = evaluate_accuracy(model, x_data, y_data)\n",
        "            print(f\"Epoch {epoch}, Loss: {loss.numpy():.4f}, Accuracy: {accuracy:.4f}\")\n",
        "\n",
        "# Accuracy function\n",
        "def evaluate_accuracy(model, x_data, y_actual):\n",
        "    y_predicted = model(x_data, training=False)\n",
        "    rounded_predictions = tf.round(y_predicted)\n",
        "    correct_predictions = tf.equal(rounded_predictions, y_actual)\n",
        "    return tf.reduce_mean(tf.cast(correct_predictions, tf.float32)).numpy()\n",
        "\n",
        "# Prepare XOR dataset\n",
        "xor_data = np.array([[0, 0, 0],\n",
        "                      [1, 0, 1],\n",
        "                      [0, 1, 1],\n",
        "                      [1, 1, 0]], dtype=np.float32)\n",
        "\n",
        "x_values = xor_data[:, :2]\n",
        "y_values = xor_data[:, 2:]\n",
        "\n",
        "# Initialize and train the model\n",
        "xor_model = XOR_Model()\n",
        "train_xor_model(xor_model, x_values, y_values)\n",
        "\n",
        "print(\"\\nTrained Weights and Biases:\")\n",
        "print(f\"Hidden Weights:\\n{xor_model.W1.numpy()}\")\n",
        "print(f\"Hidden Bias: {xor_model.b1.numpy()}\")\n",
        "print(f\"Output Weights:\\n{xor_model.W2.numpy()}\")\n",
        "print(f\"Output Bias: {xor_model.b2.numpy()}\\n\")\n",
        "\n",
        "# Test model predictions\n",
        "y_predicted = xor_model(x_values, training=False).numpy().round().astype(np.uint8)\n",
        "print(\"Predicted XOR Truth Table:\")\n",
        "prediction_output = np.column_stack((xor_data[:, :2], y_predicted))\n",
        "print(prediction_output)\n",
        "\n",
        "print(\"\\nCorrect?\", np.allclose(xor_data, prediction_output))\n",
        "\n"
      ],
      "metadata": {
        "colab": {
          "base_uri": "https://localhost:8080/"
        },
        "id": "8F-a9Zxbm7gz",
        "outputId": "a0b0afb7-038c-46cb-9d1b-ca9abcf86140"
      },
      "execution_count": null,
      "outputs": [
        {
          "output_type": "stream",
          "name": "stdout",
          "text": [
            "Epoch 0, Loss: 0.2581, Accuracy: 0.5000\n",
            "Epoch 2000, Loss: 0.2500, Accuracy: 0.2500\n",
            "Epoch 4000, Loss: 0.2495, Accuracy: 0.7500\n",
            "Epoch 6000, Loss: 0.1860, Accuracy: 0.7500\n",
            "Epoch 8000, Loss: 0.0350, Accuracy: 1.0000\n",
            "Epoch 10000, Loss: 0.0085, Accuracy: 1.0000\n",
            "Epoch 12000, Loss: 0.0044, Accuracy: 1.0000\n",
            "Epoch 14000, Loss: 0.0030, Accuracy: 1.0000\n",
            "\n",
            "Trained Weights and Biases:\n",
            "Hidden Weights:\n",
            "[[ 6.670654 -4.573268]\n",
            " [ 6.640257 -4.568026]]\n",
            "Hidden Bias: [-2.9272497  6.8351235]\n",
            "Output Weights:\n",
            "[[7.1517053]\n",
            " [7.3839283]]\n",
            "Output Bias: [-10.648183]\n",
            "\n",
            "Predicted XOR Truth Table:\n",
            "[[0. 0. 0.]\n",
            " [1. 0. 1.]\n",
            " [0. 1. 1.]\n",
            " [1. 1. 0.]]\n",
            "\n",
            "Correct? True\n"
          ]
        }
      ]
    },
    {
      "cell_type": "code",
      "source": [],
      "metadata": {
        "id": "nKopifre0Rzb"
      },
      "execution_count": null,
      "outputs": []
    }
  ],
  "metadata": {
    "colab": {
      "provenance": []
    },
    "kernelspec": {
      "display_name": "Python 3 (ipykernel)",
      "language": "python",
      "name": "python3"
    },
    "language_info": {
      "codemirror_mode": {
        "name": "ipython",
        "version": 3
      },
      "file_extension": ".py",
      "mimetype": "text/x-python",
      "name": "python",
      "nbconvert_exporter": "python",
      "pygments_lexer": "ipython3",
      "version": "3.12.7"
    }
  },
  "nbformat": 4,
  "nbformat_minor": 0
}